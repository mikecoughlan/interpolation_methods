{
 "cells": [
  {
   "cell_type": "code",
   "execution_count": 75,
   "metadata": {},
   "outputs": [],
   "source": [
    "import pandas as pd \n",
    "import numpy as np \n",
    "import matplotlib.pyplot as plt \n",
    "import os \n",
    "from datetime import datetime "
   ]
  },
  {
   "cell_type": "code",
   "execution_count": 94,
   "metadata": {},
   "outputs": [],
   "source": [
    "df = pd.read_feather('../../../jmarchezi/research-projects/solar-wind-data-with-gaps/outputData/combined_ace_data_resampled.feather')"
   ]
  },
  {
   "cell_type": "code",
   "execution_count": 95,
   "metadata": {},
   "outputs": [],
   "source": [
    "pd.to_datetime(df['ACEepoch'], format='%Y-%m-%d %H:%M:%S')\n",
    "df.set_index('ACEepoch', inplace=True, drop=True)\n",
    "df.index = pd.to_datetime(df.index)\n",
    "\n",
    "df.dropna(inplace=True)\n",
    "df.drop(['YR', 'Month', 'Day', 'HR'], axis=1, inplace=True)"
   ]
  },
  {
   "cell_type": "code",
   "execution_count": 101,
   "metadata": {},
   "outputs": [
    {
     "name": "stdout",
     "output_type": "stream",
     "text": [
      "6278314\n",
      "3139157\n"
     ]
    }
   ],
   "source": [
    "time_diff = df.index.to_series().diff()\n",
    "mask = (time_diff.shift(-1) == pd.Timedelta(minutes=1)) & (time_diff == pd.Timedelta(minutes=1))\n",
    "\n",
    "print(mask.sum())\n",
    "\n",
    "# Find consecutive True values in the mask\n",
    "consecutive_true = mask.cumsum()\n",
    "mask = mask & (consecutive_true % 2 == 1)\n",
    "\n",
    "print(mask.sum())\n",
    "\n",
    "num_true = mask.sum()\n",
    "max_samples = int(len(df) * 0.2)  # 20% of the total number of rows\n",
    "\n",
    "# If the number of True values exceeds the maximum samples, randomly sample from the True indices\n",
    "if num_true > max_samples:\n",
    "    sample_indices = mask[mask].sample(n=max_samples, random_state=42).index\n",
    "    mask = mask.index.isin(sample_indices)\n",
    "\n",
    "samples_to_nan = df[mask]"
   ]
  },
  {
   "cell_type": "code",
   "execution_count": 102,
   "metadata": {},
   "outputs": [
    {
     "name": "stdout",
     "output_type": "stream",
     "text": [
      "ACEepoch\n",
      "1998-02-05 00:01:00    325.715881\n",
      "1998-02-05 00:02:00           NaN\n",
      "1998-02-05 00:03:00    325.696991\n",
      "1998-02-05 00:04:00           NaN\n",
      "1998-02-05 00:05:00    324.898804\n",
      "                          ...    \n",
      "2020-12-31 23:54:00    362.555084\n",
      "2020-12-31 23:55:00    359.486938\n",
      "2020-12-31 23:56:00           NaN\n",
      "2020-12-31 23:57:00    360.278900\n",
      "2020-12-31 23:58:00    361.805573\n",
      "Name: Vx, Length: 6994795, dtype: float64\n",
      "1410615\n",
      "6994795\n"
     ]
    }
   ],
   "source": [
    "test_vx_nans = df['Vx']\n",
    "test_vx_nans.loc[test_vx_nans.index.isin(samples_to_nan.index)] = np.nan\n",
    "print(test_vx_nans)\n",
    "print(test_vx_nans.isnull().sum())\n",
    "print(len(df))\n"
   ]
  },
  {
   "cell_type": "code",
   "execution_count": 103,
   "metadata": {},
   "outputs": [
    {
     "name": "stdout",
     "output_type": "stream",
     "text": [
      "No consecutive NaN rows.\n"
     ]
    }
   ],
   "source": [
    "# Check for consecutive rows with NaN values\n",
    "consecutive_nan = test_vx_nans.isnull() & test_vx_nans.shift().isnull()\n",
    "\n",
    "# Check if any consecutive NaN rows exist\n",
    "if consecutive_nan.any():\n",
    "    print(\"Consecutive NaN rows exist.\")\n",
    "else:\n",
    "    print(\"No consecutive NaN rows.\")"
   ]
  },
  {
   "cell_type": "code",
   "execution_count": null,
   "metadata": {},
   "outputs": [],
   "source": []
  }
 ],
 "metadata": {
  "kernelspec": {
   "display_name": "env",
   "language": "python",
   "name": "python3"
  },
  "language_info": {
   "codemirror_mode": {
    "name": "ipython",
    "version": 3
   },
   "file_extension": ".py",
   "mimetype": "text/x-python",
   "name": "python",
   "nbconvert_exporter": "python",
   "pygments_lexer": "ipython3",
   "version": "3.8.10"
  },
  "orig_nbformat": 4
 },
 "nbformat": 4,
 "nbformat_minor": 2
}
